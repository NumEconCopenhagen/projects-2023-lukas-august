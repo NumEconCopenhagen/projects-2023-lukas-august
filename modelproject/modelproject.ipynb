{
 "cells": [
  {
   "attachments": {},
   "cell_type": "markdown",
   "metadata": {},
   "source": [
    "# The Romer model\n"
   ]
  },
  {
   "attachments": {},
   "cell_type": "markdown",
   "metadata": {},
   "source": [
    "Imports and set magics:"
   ]
  },
  {
   "cell_type": "code",
   "execution_count": 26,
   "metadata": {},
   "outputs": [
    {
     "name": "stdout",
     "output_type": "stream",
     "text": [
      "The autoreload extension is already loaded. To reload it, use:\n",
      "  %reload_ext autoreload\n"
     ]
    }
   ],
   "source": [
    "import numpy as np\n",
    "from scipy import linalg\n",
    "from scipy import optimize\n",
    "import sympy as sm\n",
    "from matplotlib import pyplot as plt\n",
    "\n",
    "# autoreload modules when code is run\n",
    "%load_ext autoreload\n",
    "%autoreload 2"
   ]
  },
  {
   "attachments": {},
   "cell_type": "markdown",
   "metadata": {},
   "source": [
    "# Model description"
   ]
  },
  {
   "attachments": {
    "image-2.png": {
     "image/png": "[encoded data removed]"
    },
    "image.png": {
     "image/png": "[encoded data removed]"
    }
   },
   "cell_type": "markdown",
   "metadata": {},
   "source": [
    "The Romer model is essentially the same as the Solow model. However, technological development is now an explicit function of investments in R&D (Research and development). There exist two sectors, one generate output and one generate new knowledge. The Labor force is divided into these two sectors, such that a part of the labor force are scientists / works in the R&D sector. The equation system is given by:\n",
    "\n",
    "![image.png](attachment:image.png)\n",
    "\n",
    "ρ is a constant productivity parameter. The parameter ϕ is the elasticity of existing knowledge (in other words, how easy it is to generate new knowledge). From ϕ we can describe two opposite effects:\n",
    "\n",
    "Standing on shoulders: If ϕ>0 or close to 1 - new knowleadge is generated by existing ideas. \n",
    "Fishing out: If ϕ<0 - It gets harder and harder to generate new knowledge. \n",
    "\n",
    "λ is the efficieny of the scientists. A higher amount of working scientists results in a higher probability of two workers getting the exact same new idea, which only counts for one new idea, hence it is inefficient. This effects is called steppeing on toes and speaks for decreasing marginal product of labor in the R&D sector, hence 0<λ<1.\n",
    "\n",
    "In the analysis we use per captia terms. Hence we can write output per capita as: ![image.png](attachment:image-2.png)"
   ]
  },
  {
   "attachments": {},
   "cell_type": "markdown",
   "metadata": {},
   "source": [
    "## Analytical solution"
   ]
  },
  {
   "attachments": {},
   "cell_type": "markdown",
   "metadata": {},
   "source": [
    "We start by solving the model analytically, identifying the steady state algebraically utilizing Sympy. As a starting point we consider the transition equation for the Romer model defined above, where we need to define the relevant parameters.\n",
    "Afterwards, we use the solve function in Sympy, where we solve for capital to find the steady state equation for capital.\n",
    "Now that we have the steady state value for capital, we can put it into y.\n",
    "Lastly we might want to solve the steady state for actual parameter values to have get a value for capital in steady state. To accomplish this, the Sympy function Lambdify is used."
   ]
  },
  {
   "cell_type": "code",
   "execution_count": 22,
   "metadata": {},
   "outputs": [
    {
     "name": "stdout",
     "output_type": "stream",
     "text": [
      "The steady state of capital per capita is given by:\n"
     ]
    },
    {
     "data": {
      "text/latex": [
       "$\\displaystyle k* = \\left(\\frac{s \\left(1 - sr\\right)^{1 - \\alpha}}{\\delta + g n + g + n}\\right)^{- \\frac{1}{\\alpha - 1}}$"
      ],
      "text/plain": [
       "Eq(k*, (s*(1 - sr)**(1 - alpha)/(delta + g*n + g + n))**(-1/(alpha - 1)))"
      ]
     },
     "metadata": {},
     "output_type": "display_data"
    },
    {
     "name": "stdout",
     "output_type": "stream",
     "text": [
      "The steady state of output per capita is given by:\n"
     ]
    },
    {
     "data": {
      "text/latex": [
       "$\\displaystyle y* = \\left(1 - sr\\right)^{1 - \\alpha} \\left(\\left(\\frac{s \\left(1 - sr\\right)^{1 - \\alpha}}{\\delta + g n + g + n}\\right)^{- \\frac{1}{\\alpha - 1}}\\right)^{\\alpha}$"
      ],
      "text/plain": [
       "Eq(y*, (1 - sr)**(1 - alpha)*((s*(1 - sr)**(1 - alpha)/(delta + g*n + g + n))**(-1/(alpha - 1)))**alpha)"
      ]
     },
     "metadata": {},
     "output_type": "display_data"
    },
    {
     "name": "stdout",
     "output_type": "stream",
     "text": [
      "The steady state value of capital is:\n"
     ]
    },
    {
     "data": {
      "text/plain": [
       "6.005001091089144"
      ]
     },
     "metadata": {},
     "output_type": "display_data"
    },
    {
     "name": "stdout",
     "output_type": "stream",
     "text": [
      "The steady state value of output is:\n"
     ]
    },
    {
     "data": {
      "text/plain": [
       "1.5663820158565118"
      ]
     },
     "metadata": {},
     "output_type": "display_data"
    }
   ],
   "source": [
    "# Sympy symbols\n",
    "k = sm.symbols('k')\n",
    "alpha = sm.symbols('alpha')\n",
    "delta = sm.symbols('delta')\n",
    "s = sm.symbols('s')\n",
    "sr = sm.symbols('sr')\n",
    "g = sm.symbols('g')\n",
    "n = sm.symbols('n')\n",
    "\n",
    "# We find the steady state equation for capital per capita \n",
    "f = k**alpha\n",
    "ssk = sm.Eq(k,((s*f*((1-sr)**(1-alpha))+(1-delta)*k)/((1+n)*(1+g))))\n",
    "kss = sm.solve(ssk,k)[0]\n",
    "print('The steady state of capital per capita is given by:')\n",
    "display(sm.Eq(sm.symbols('k*'),kss))\n",
    "\n",
    "# We find the steady state equation for output per capita, where we define y given the equation stated in the introduction\n",
    "ystar=((1-sr)**(1-alpha))*(k**alpha)\n",
    "yss=ystar.subs(k,kss)\n",
    "print('The steady state of output per capita is given by:')\n",
    "display(sm.Eq(sm.symbols('y*'),yss))\n",
    "\n",
    "# Create a function of steady state capital and output\n",
    "ssk_func = sm.lambdify((s,sr,g,n,delta,alpha),kss)\n",
    "# Evaluate function\n",
    "print('The steady state value of capital is:')\n",
    "display(ssk_func(0.8,0.2,0.0977,0.01,0.1,1/3))\n",
    "\n",
    "ssy_func = sm.lambdify((s,sr,g,n,delta,alpha),yss)\n",
    "# Evaluate function\n",
    "print('The steady state value of output is:')\n",
    "display(ssy_func(0.8,0.2,0.0977,0.01,0.1,1/3))"
   ]
  },
  {
   "attachments": {},
   "cell_type": "markdown",
   "metadata": {},
   "source": [
    "## Numerical solution"
   ]
  },
  {
   "attachments": {},
   "cell_type": "markdown",
   "metadata": {},
   "source": [
    "For the numerical part for the assignment, we start by defining the parameter values in the py-file \"modelproject\".\n",
    "We use iteration to solve the equation system. "
   ]
  },
  {
   "cell_type": "code",
   "execution_count": 30,
   "metadata": {},
   "outputs": [
    {
     "name": "stdout",
     "output_type": "stream",
     "text": [
      "The steady state value of capital is 6.0058424504998715\n"
     ]
    }
   ],
   "source": [
    "from modelproject import SS_simulation\n",
    "Ks, Ys, Ls, As, k_tilde, y_tilde = SS_simulation()\n",
    "print(f'The steady state value of capital is {k_tilde[199]}')"
   ]
  },
  {
   "attachments": {},
   "cell_type": "markdown",
   "metadata": {},
   "source": [
    "# Further analysis"
   ]
  },
  {
   "attachments": {},
   "cell_type": "markdown",
   "metadata": {},
   "source": [
    "We show the convergence towards steady state capital by using the py-file."
   ]
  },
  {
   "cell_type": "code",
   "execution_count": 32,
   "metadata": {},
   "outputs": [
    {
     "data": {
      "image/png": "[encoded data removed]",
      "text/plain": [
       "<Figure size 640x480 with 1 Axes>"
      ]
     },
     "metadata": {},
     "output_type": "display_data"
    }
   ],
   "source": [
    "# Styling the plot\n",
    "style = 'Solarize_Light2'\n",
    "plt.style.use(style)\n",
    "\n",
    "plt.plot(k_tilde)\n",
    "plt.show()"
   ]
  },
  {
   "attachments": {},
   "cell_type": "markdown",
   "metadata": {},
   "source": [
    "# Conclusion"
   ]
  },
  {
   "attachments": {},
   "cell_type": "markdown",
   "metadata": {},
   "source": [
    "In this modelproject, we investigate the Romer model and find that the analytical and numerical steady state capital values are identical and equal to 6.00 given plausable values for the paramteres in the model. We furthermore plot the convergence of capital towards the steady state value."
   ]
  }
 ],
 "metadata": {
  "kernelspec": {
   "display_name": "base",
   "language": "python",
   "name": "python3"
  },
  "language_info": {
   "codemirror_mode": {
    "name": "ipython",
    "version": 3
   },
   "file_extension": ".py",
   "mimetype": "text/x-python",
   "name": "python",
   "nbconvert_exporter": "python",
   "pygments_lexer": "ipython3",
   "version": "3.10.9"
  },
  "toc-autonumbering": true,
  "vscode": {
   "interpreter": {
    "hash": "47ef90cdf3004d3f859f1fb202523c65c07ba7c22eefd261b181f4744e2d0403"
   }
  }
 },
 "nbformat": 4,
 "nbformat_minor": 4
}

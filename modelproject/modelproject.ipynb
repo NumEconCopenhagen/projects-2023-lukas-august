{
 "cells": [
  {
   "attachments": {},
   "cell_type": "markdown",
   "metadata": {},
   "source": [
    "# The Romer model\n"
   ]
  },
  {
   "attachments": {},
   "cell_type": "markdown",
   "metadata": {},
   "source": [
    "> **Note the following:** \n",
    "> 1. This is *not* meant to be an example of an actual **model analysis project**, just an example of how to structure such a project.\n",
    "> 1. Remember the general advice on structuring and commenting your code\n",
    "> 1. The `modelproject.py` file includes a function which could be used multiple times in this notebook."
   ]
  },
  {
   "cell_type": "markdown",
   "metadata": {},
   "source": [
    "Imports and set magics:"
   ]
  },
  {
   "cell_type": "code",
   "execution_count": 1,
   "metadata": {},
   "outputs": [],
   "source": [
    "import numpy as np\n",
    "from scipy import linalg\n",
    "from scipy import optimize\n",
    "import sympy as sm\n",
    "\n",
    "# autoreload modules when code is run\n",
    "%load_ext autoreload\n",
    "%autoreload 2"
   ]
  },
  {
   "cell_type": "markdown",
   "metadata": {},
   "source": [
    "# Model description"
   ]
  },
  {
   "attachments": {
    "image.png": {
     "image/png": "[encoded data removed]"
    }
   },
   "cell_type": "markdown",
   "metadata": {},
   "source": [
    "**Write out the model in equations here.** \n",
    "\n",
    "The Romer model is essentially the same as the Solow model. However, technological development is now an explicit function of investments in R&D (Research and development). There exist two sectors, one generate output and one generate new knowledge. The Labor force is divided into these two sectors, such that a part of the labor force are scientists / works in the R&D sector. The equation system is given by:\n",
    "\n",
    "![image.png](attachment:image.png)\n",
    "\n",
    "ρ is a constant productivity parameter. The parameter ϕ is the elasticity of existing knowledge (in other words, how easy it is to generate new knowledge). From ϕ we can describe two opposite effects:\n",
    "\n",
    "Standing on shoulders: If ϕ>0 or close to 1 - new knowleadge is generated by existing ideas. \n",
    "Fishing out: If ϕ<0 - It gets harder and harder to generate new knowledge. \n",
    "\n",
    "λ is the efficieny of the scientists. A higher amount of working scientists results in a higher probability of two workers getting the exact same new idea, which only counts for one new idea, hence it is inefficient. This effects is called steppeing on toes and speaks for decreasing marginal product of labor in the R&D sector, hence 0<λ<1.\n",
    "\n",
    "In the analysis we use per captia terms."
   ]
  },
  {
   "cell_type": "markdown",
   "metadata": {},
   "source": [
    "## Analytical solution"
   ]
  },
  {
   "cell_type": "markdown",
   "metadata": {},
   "source": [
    "If your model allows for an analytical solution, you should provide here.\n",
    "\n",
    "You may use Sympy for this. Then you can characterize the solution as a function of a parameter of the model.\n",
    "\n",
    "To characterize the solution, first derive a steady state equation as a function of a parameter using Sympy.solve and then turn it into a python function by Sympy.lambdify. See the lecture notes for details. "
   ]
  },
  {
   "cell_type": "code",
   "execution_count": null,
   "metadata": {},
   "outputs": [],
   "source": [
    "k = sm.symbols('k')\n",
    "alpha = sm.symbols('alpha')\n",
    "delta = sm.symbols('delta')\n",
    "s = sm.symbols('s')\n",
    "sr = sm.symbols('sr')\n",
    "g = sm.symbols('g')\n",
    "n = sm.symbols('n')\n",
    "a = sm.symbols('a')\n",
    "y = sm.symbols('y')"
   ]
  },
  {
   "cell_type": "code",
   "execution_count": null,
   "metadata": {},
   "outputs": [],
   "source": [
    "f = k**alpha\n",
    "ssk = sm.Eq(k,((s*f*((1-sr)**(1-alpha))+(1-delta)*k)/((1+n)*(1+g))))\n",
    "kss = sm.solve(ssk,k)[0]\n",
    "kss"
   ]
  },
  {
   "cell_type": "code",
   "execution_count": null,
   "metadata": {},
   "outputs": [],
   "source": [
    "# Define y \n",
    "ystar=((1-sr)**(1-alpha))*(k**alpha)\n",
    "\n",
    "# Find the steady state for y\n",
    "sy=ystar.subs(k,kss)\n",
    "yss=sm.Eq(y,sy)\n",
    "yss"
   ]
  },
  {
   "cell_type": "code",
   "execution_count": null,
   "metadata": {},
   "outputs": [],
   "source": [
    "ssk_func = sm.lambdify((s,sr,g,n,delta,alpha),kss)\n",
    "\n",
    "# Evaluate function\n",
    "ssk_func(0.8,0.2,0.02,0.01,0.1,1/3)"
   ]
  },
  {
   "cell_type": "markdown",
   "metadata": {},
   "source": [
    "## Numerical solution"
   ]
  },
  {
   "cell_type": "markdown",
   "metadata": {},
   "source": [
    "You can always solve a model numerically. \n",
    "\n",
    "Define first the set of parameters you need. \n",
    "\n",
    "Then choose one of the optimization algorithms that we have gone through in the lectures based on what you think is most fitting for your model.\n",
    "\n",
    "Are there any problems with convergence? Does the model converge for all starting values? Make a lot of testing to figure these things out. "
   ]
  },
  {
   "cell_type": "code",
   "execution_count": null,
   "metadata": {},
   "outputs": [],
   "source": [
    "import numpy as np\n",
    "import scipy.optimize as opt\n",
    "\n",
    "\n",
    "# Set the parameter values as in the Romer model\n",
    "\n",
    "alpha = 1/3  # Production function parameter\n",
    "\n",
    "s = 0.8  # Savings rate\n",
    "\n",
    "sr = 0.2  # Share of output invested in research\n",
    "\n",
    "delta = 0.1  # Depreciation rate\n",
    "\n",
    "n = 0.01  # Labor force growth rate\n",
    "\n",
    "g = 0.02  # Technological growth rate\n",
    "\n",
    "\n",
    "# Function to calculate steady state value\n",
    "\n",
    "def romer_model(k_tilde, alpha, s, sr, delta, n, g):\n",
    "    \n",
    "    # Define the steady state equation\n",
    "    f = lambda k: k**(alpha-1)\n",
    "    obj_kss = lambda kss: kss - (1/((1+n)*(1+g)))*(s*kss**alpha*(1-sr)**(1-alpha)+(1-delta)*kss)\n",
    "    result = optimize.root_scalar(obj_kss,bracket=[0.1,100],method='brentq')\n",
    "    \n",
    "    if result.converged:\n",
    "        return result.root\n",
    "    else:\n",
    "        return None\n",
    "\n",
    "\n",
    "# Calculate the steady state value\n",
    "\n",
    "k_tilde_ss = romer_model(1, alpha, s, sr, delta, n, g)\n",
    "\n",
    "if k_tilde_ss is not None:\n",
    "    print(f\"Steady state value of k_tilde is {k_tilde_ss:.4f}\")\n",
    "else:\n",
    "    print(\"Failed to find the steady state value\")"
   ]
  },
  {
   "cell_type": "markdown",
   "metadata": {},
   "source": [
    "# Further analysis"
   ]
  },
  {
   "cell_type": "markdown",
   "metadata": {},
   "source": [
    "Make detailed vizualizations of how your model changes with parameter values. \n",
    "\n",
    "Try to make an extension of the model. "
   ]
  },
  {
   "cell_type": "markdown",
   "metadata": {},
   "source": [
    "# Conclusion"
   ]
  },
  {
   "cell_type": "markdown",
   "metadata": {},
   "source": [
    "Add concise conclusion. "
   ]
  }
 ],
 "metadata": {
  "kernelspec": {
   "display_name": "base",
   "language": "python",
   "name": "python3"
  },
  "language_info": {
   "codemirror_mode": {
    "name": "ipython",
    "version": 3
   },
   "file_extension": ".py",
   "mimetype": "text/x-python",
   "name": "python",
   "nbconvert_exporter": "python",
   "pygments_lexer": "ipython3",
   "version": "3.9.10"
  },
  "toc-autonumbering": true,
  "vscode": {
   "interpreter": {
    "hash": "47ef90cdf3004d3f859f1fb202523c65c07ba7c22eefd261b181f4744e2d0403"
   }
  }
 },
 "nbformat": 4,
 "nbformat_minor": 4
}

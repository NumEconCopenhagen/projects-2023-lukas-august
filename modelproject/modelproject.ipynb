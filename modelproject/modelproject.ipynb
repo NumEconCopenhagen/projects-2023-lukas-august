{
 "cells": [
  {
   "attachments": {},
   "cell_type": "markdown",
   "metadata": {},
   "source": [
    "# The Romer model\n"
   ]
  },
  {
   "cell_type": "markdown",
   "metadata": {},
   "source": [
    "Imports and set magics:"
   ]
  },
  {
   "cell_type": "code",
   "execution_count": 28,
   "metadata": {},
   "outputs": [
    {
     "name": "stdout",
     "output_type": "stream",
     "text": [
      "The autoreload extension is already loaded. To reload it, use:\n",
      "  %reload_ext autoreload\n"
     ]
    }
   ],
   "source": [
    "import numpy as np\n",
    "from scipy import linalg\n",
    "from scipy import optimize\n",
    "import sympy as sm\n",
    "from matplotlib import pyplot as plt\n",
    "\n",
    "# autoreload modules when code is run\n",
    "%load_ext autoreload\n",
    "%autoreload 2"
   ]
  },
  {
   "cell_type": "markdown",
   "metadata": {},
   "source": [
    "# Model description"
   ]
  },
  {
   "attachments": {
    "image-2.png": {
     "image/png": "[encoded data removed]"
    },
    "image.png": {
     "image/png": "[encoded data removed]"
    }
   },
   "cell_type": "markdown",
   "metadata": {},
   "source": [
    "The Romer model is essentially the same as the Solow model. However, technological development is now an explicit function of investments in R&D (Research and development). There exist two sectors, one generate output and one generate new knowledge. The Labor force is divided into these two sectors, such that a part of the labor force are scientists / works in the R&D sector. The equation system is given by:\n",
    "\n",
    "![image.png](attachment:image.png)\n",
    "\n",
    "ρ is a constant productivity parameter. The parameter ϕ is the elasticity of existing knowledge (in other words, how easy it is to generate new knowledge). From ϕ we can describe two opposite effects:\n",
    "\n",
    "Standing on shoulders: If ϕ>0 or close to 1 - new knowleadge is generated by existing ideas. \n",
    "Fishing out: If ϕ<0 - It gets harder and harder to generate new knowledge. \n",
    "\n",
    "λ is the efficieny of the scientists. A higher amount of working scientists results in a higher probability of two workers getting the exact same new idea, which only counts for one new idea, hence it is inefficient. This effects is called steppeing on toes and speaks for decreasing marginal product of labor in the R&D sector, hence 0<λ<1.\n",
    "\n",
    "In the analysis we use per captia terms. Hence we can write output per capita as: ![image.png](attachment:image-2.png)"
   ]
  },
  {
   "cell_type": "markdown",
   "metadata": {},
   "source": [
    "## Analytical solution"
   ]
  },
  {
   "attachments": {},
   "cell_type": "markdown",
   "metadata": {},
   "source": [
    "We start by solving the model analytically, identifying the steady state algebraically utilizing Sympy. As a starting point we consider the transition equation for the Romer model defined above, where we need to define the relevant parameters.\n",
    "Afterwards, we use the solve function in Sympy, where we solve for capital to find the steady state equation for capital.\n",
    "Now that we have the steady state value for capital, we can put it into y.\n",
    "Lastly we might want to solve the steady state for actual parameter values to have get a value for capital in steady state. To accomplish this, the Sympy function Lambdify is used."
   ]
  },
  {
   "cell_type": "code",
   "execution_count": 50,
   "metadata": {},
   "outputs": [
    {
     "name": "stdout",
     "output_type": "stream",
     "text": [
      "The steady state of capital per capita is given by:\n"
     ]
    },
    {
     "data": {
      "text/latex": [
       "$\\displaystyle k* = \\left(\\frac{s \\left(1 - sr\\right)^{1 - \\alpha}}{\\delta + g n + g + n}\\right)^{- \\frac{1}{\\alpha - 1}}$"
      ],
      "text/plain": [
       "Eq(k*, (s*(1 - sr)**(1 - alpha)/(delta + g*n + g + n))**(-1/(alpha - 1)))"
      ]
     },
     "metadata": {},
     "output_type": "display_data"
    },
    {
     "name": "stdout",
     "output_type": "stream",
     "text": [
      "The steady state of output per capita is given by:\n"
     ]
    },
    {
     "data": {
      "text/latex": [
       "$\\displaystyle y* = \\left(1 - sr\\right)^{1 - \\alpha} \\left(\\left(\\frac{s \\left(1 - sr\\right)^{1 - \\alpha}}{\\delta + g n + g + n}\\right)^{- \\frac{1}{\\alpha - 1}}\\right)^{\\alpha}$"
      ],
      "text/plain": [
       "Eq(y*, (1 - sr)**(1 - alpha)*((s*(1 - sr)**(1 - alpha)/(delta + g*n + g + n))**(-1/(alpha - 1)))**alpha)"
      ]
     },
     "metadata": {},
     "output_type": "display_data"
    },
    {
     "name": "stdout",
     "output_type": "stream",
     "text": [
      "The steady state value of capital is:\n"
     ]
    },
    {
     "data": {
      "text/plain": [
       "12.184521851080438"
      ]
     },
     "metadata": {},
     "output_type": "display_data"
    },
    {
     "name": "stdout",
     "output_type": "stream",
     "text": [
      "The steady state value of output is:\n"
     ]
    },
    {
     "data": {
      "text/plain": [
       "1.9830309312633418"
      ]
     },
     "metadata": {},
     "output_type": "display_data"
    }
   ],
   "source": [
    "# Sympy symbols\n",
    "k = sm.symbols('k')\n",
    "alpha = sm.symbols('alpha')\n",
    "delta = sm.symbols('delta')\n",
    "s = sm.symbols('s')\n",
    "sr = sm.symbols('sr')\n",
    "g = sm.symbols('g')\n",
    "n = sm.symbols('n')\n",
    "\n",
    "# We find the steady state equation for capital per capita \n",
    "f = k**alpha\n",
    "ssk = sm.Eq(k,((s*f*((1-sr)**(1-alpha))+(1-delta)*k)/((1+n)*(1+g))))\n",
    "kss = sm.solve(ssk,k)[0]\n",
    "print('The steady state of capital per capita is given by:')\n",
    "display(sm.Eq(sm.symbols('k*'),kss))\n",
    "\n",
    "# We find the steady state equation for output per capita, where we define y given the equation stated in the introduction\n",
    "ystar=((1-sr)**(1-alpha))*(k**alpha)\n",
    "yss=ystar.subs(k,kss)\n",
    "print('The steady state of output per capita is given by:')\n",
    "display(sm.Eq(sm.symbols('y*'),yss))\n",
    "\n",
    "# Create a function of steady state capital and output\n",
    "ssk_func = sm.lambdify((s,sr,g,n,delta,alpha),kss)\n",
    "# Evaluate function\n",
    "print('The steady state value of capital is:')\n",
    "display(ssk_func(0.8,0.2,0.02,0.01,0.1,1/3))\n",
    "\n",
    "ssy_func = sm.lambdify((s,sr,g,n,delta,alpha),yss)\n",
    "# Evaluate function\n",
    "print('The steady state value of output is:')\n",
    "display(ssy_func(0.8,0.2,0.02,0.01,0.1,1/3))"
   ]
  },
  {
   "cell_type": "markdown",
   "metadata": {},
   "source": [
    "## Numerical solution"
   ]
  },
  {
   "attachments": {},
   "cell_type": "markdown",
   "metadata": {},
   "source": [
    "For the numerical part for the assignment, we start by defining the parameter values (as did above). \n",
    "To solve the model numerically, we use Scipy optimize to find the root of the transition equation, as this will be where kt+1 and kt are equal."
   ]
  },
  {
   "cell_type": "code",
   "execution_count": 55,
   "metadata": {},
   "outputs": [
    {
     "name": "stdout",
     "output_type": "stream",
     "text": [
      "The steady state value of capital is 12.1845\n"
     ]
    }
   ],
   "source": [
    "import numpy as np\n",
    "import scipy.optimize as opt\n",
    "\n",
    "# Set the parameter values as in the Romer model\n",
    "alpha = 1/3  # Production function parameter\n",
    "s = 0.8  # Savings rate\n",
    "sr = 0.2  # Share of output invested in research\n",
    "delta = 0.1  # Depreciation rate\n",
    "n = 0.01  # Labor force growth rate\n",
    "g = 0.02  # Technological growth rate\n",
    "\n",
    "# Function to calculate steady state value\n",
    "def romer_model(k_tilde, alpha, s, sr, delta, n, g):\n",
    "    \n",
    "    # Define the steady state equation\n",
    "    f = lambda k: k**(alpha-1)\n",
    "    obj_kss = lambda kss: kss - (1/((1+n)*(1+g)))*(s*kss**alpha*(1-sr)**(1-alpha)+(1-delta)*kss)\n",
    "    result = optimize.root_scalar(obj_kss,bracket=[0.1,100],method='brentq')\n",
    "    \n",
    "    if result.converged:\n",
    "        return result.root\n",
    "    else:\n",
    "        return None\n",
    "\n",
    "# Calculate the steady state value\n",
    "\n",
    "k_tilde_ss = romer_model(1, alpha, s, sr, delta, n, g)\n",
    "\n",
    "if k_tilde_ss is not None:\n",
    "    print(f\"The steady state value of capital is {k_tilde_ss:.4f}\")\n",
    "else:\n",
    "    print(\"Failed to find the steady state value\")"
   ]
  },
  {
   "cell_type": "markdown",
   "metadata": {},
   "source": [
    "# Further analysis"
   ]
  },
  {
   "attachments": {},
   "cell_type": "markdown",
   "metadata": {},
   "source": [
    "We show the convergence towards steady state capital. "
   ]
  },
  {
   "cell_type": "code",
   "execution_count": null,
   "metadata": {},
   "outputs": [],
   "source": [
    "# Calculate the steady state values for a range of initial values of k_tilde\n",
    "initial_values = np.linspace(0.1, 100, 1000)\n",
    "steady_states = []\n",
    "for k_tilde_0 in initial_values:\n",
    "    res = opt.root_scalar(f, args=(alpha, s, sr, delta, n, g), x0=k_tilde_0, bracket=(0.1, 1000), method='brentq')\n",
    "    steady_states.append(res.root)\n",
    "\n",
    "# Plot the results\n",
    "plt.plot(initial_values, steady_states)\n",
    "plt.xlabel('Initial value of k_tilde')\n",
    "plt.ylabel('Steady state value of k_tilde')\n",
    "plt.title('Convergence of steady state values')\n",
    "plt.show()"
   ]
  },
  {
   "cell_type": "markdown",
   "metadata": {},
   "source": [
    "# Conclusion"
   ]
  },
  {
   "attachments": {},
   "cell_type": "markdown",
   "metadata": {},
   "source": [
    "In this modelproject, we investigate the Romer model and find that the analytical and numerical steady state capital values are identical and equal to 12.1845 given plausable values for the paramteres in the model."
   ]
  }
 ],
 "metadata": {
  "kernelspec": {
   "display_name": "base",
   "language": "python",
   "name": "python3"
  },
  "language_info": {
   "codemirror_mode": {
    "name": "ipython",
    "version": 3
   },
   "file_extension": ".py",
   "mimetype": "text/x-python",
   "name": "python",
   "nbconvert_exporter": "python",
   "pygments_lexer": "ipython3",
   "version": "3.10.9"
  },
  "toc-autonumbering": true,
  "vscode": {
   "interpreter": {
    "hash": "47ef90cdf3004d3f859f1fb202523c65c07ba7c22eefd261b181f4744e2d0403"
   }
  }
 },
 "nbformat": 4,
 "nbformat_minor": 4
}

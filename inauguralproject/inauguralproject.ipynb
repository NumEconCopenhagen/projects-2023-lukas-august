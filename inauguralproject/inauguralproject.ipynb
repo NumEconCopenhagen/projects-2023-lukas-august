{
 "cells": [
  {
   "cell_type": "markdown",
   "metadata": {},
   "source": [
    "# Inaugural Project"
   ]
  },
  {
   "cell_type": "markdown",
   "metadata": {},
   "source": [
    "Imports and set magics:"
   ]
  },
  {
   "cell_type": "code",
   "execution_count": 1,
   "metadata": {},
   "outputs": [],
   "source": [
    "# import numpy\n",
    "import numpy as np\n",
    "\n",
    "# import matplotlib to plot the results\n",
    "import matplotlib.pyplot as plt\n",
    "\n",
    "# autoreload modules when code is run. Otherwise, python will not see recent changes. \n",
    "%load_ext autoreload\n",
    "%autoreload 2\n",
    "\n",
    "# Import your own code\n",
    "import inauguralproject\n",
    "import HouseholdSpecializationModel_ALversion\n",
    "from HouseholdSpecializationModel_ALversion import HouseholdSpecializationModelClass\n",
    "model = HouseholdSpecializationModelClass()"
   ]
  },
  {
   "cell_type": "markdown",
   "metadata": {},
   "source": [
    "# Question 1"
   ]
  },
  {
   "attachments": {},
   "cell_type": "markdown",
   "metadata": {},
   "source": [
    "We consider a household with a male and female member, who jointly maximize their utility by allocating time to either home production or the labor market. They receive the wage wf and wm for male and female respectively for work dedicated to the labor market. The household gets utility from both consuming market goods, and consumption of home production. The household gets disutility from any type of work. The utility is maximized with respect to the contributed time to either the labor market or home production by the male and female member.\n",
    "\n",
    "The maximization problem is solved discretely with increments of 0.5 hours. The model is solved by using the solver HouseHoldSpecializationModel_ALversion.py line 73 called solve_discrete. \n"
   ]
  },
  {
   "cell_type": "code",
   "execution_count": null,
   "metadata": {},
   "outputs": [
    {
     "name": "stdout",
     "output_type": "stream",
     "text": [
      "[1 4 9]\n"
     ]
    }
   ],
   "source": [
    "# import matplotlib to plot the results\n",
    "import matplotlib.pyplot as plt\n",
    "\n",
    "# Values of alpha and sigma to consider\n",
    "alpha_values = [0.25, 0.5, 0.75]\n",
    "sigma_values = [0.5, 1.0, 1.5]\n",
    "\n",
    "# Solve model for each sigma value\n",
    "for sigma in sigma_values:\n",
    "    model.par.sigma = sigma\n",
    "\n",
    "    # Solve for each alpha value\n",
    "    HF_HM_ratios = []\n",
    "    for alpha in alpha_values:\n",
    "        model.par.alpha = alpha\n",
    "        opt = model.solve_discrete()\n",
    "        HF_HM_ratio = opt.HF/opt.HM\n",
    "        HF_HM_ratios.append(HF_HM_ratio)\n",
    "\n",
    "    # Plot the HF/HM ratios as a function of alpha\n",
    "    plt.plot(alpha_values, HF_HM_ratios, '-o')\n",
    "    plt.xlabel('alpha')\n",
    "    plt.ylabel('HF/HM ratio')\n",
    "    plt.title('Variation of HF/HM with alpha (sigma='+str(sigma)+\")\")\n",
    "    plt.show()"
   ]
  },
  {
   "attachments": {},
   "cell_type": "markdown",
   "metadata": {},
   "source": [
    "The three figures above show how the ratio of male and female time use in home production changes, when the parameter for female productivity in home production changes and the elasticity of substitution changes. \n",
    "With productivity, alpha=0.5, males and females will work the same number of hours in the home production because the wage rate in the labor market is the same and equally to one. If females are more productive compared to males (i.e. alpha>0.5), it would be optimal for females to work more in the home production. With alpha<0.5 it would be optimal for males to work more in the home production. \n"
   ]
  },
  {
   "cell_type": "markdown",
   "metadata": {},
   "source": [
    "# Question 2"
   ]
  },
  {
   "attachments": {},
   "cell_type": "markdown",
   "metadata": {},
   "source": [
    "We investigate how the log(Hf/Hm) changes when changing the labor wage ratio, log(wf/wm). We use the same discrete solver. "
   ]
  },
  {
   "cell_type": "code",
   "execution_count": 3,
   "metadata": {},
   "outputs": [],
   "source": [
    "# Values of wf to consider\n",
    "wf_values = [0.8, 0.9, 1.0, 1.1, 1.2]\n",
    "\n",
    "# Solve for each wf value\n",
    "log_HF_HM_ratios = []\n",
    "log_wf_wm_ratios = []\n",
    "for wf in wf_values:\n",
    "    model.par.wF = wf\n",
    "    opt = model.solve_discrete()\n",
    "    log_HF_HM_ratio = np.log(opt.HF/opt.HM)\n",
    "    log_wf_wm_ratio = np.log(model.par.wF/model.par.wM)\n",
    "    log_HF_HM_ratios.append(log_HF_HM_ratio)\n",
    "    log_wf_wm_ratios.append(log_wf_wm_ratio)\n",
    "\n",
    "# Plot the HF/HM ratios as a function of alpha\n",
    "plt.plot(log_wf_wm_ratios, log_HF_HM_ratios, '-o')\n",
    "plt.xlabel('log(wf/wm)')\n",
    "plt.ylabel('log(HF/HM)')\n",
    "plt.title('log(wf/wm) against log(HF/HM) with changing wf values')\n",
    "plt.show()"
   ]
  },
  {
   "attachments": {},
   "cell_type": "markdown",
   "metadata": {},
   "source": [
    "We see that a higher wage for females makes the devotion to home production more costly, hence the optimal time use in home production for females are negatively correlated with the relative labor wage. "
   ]
  },
  {
   "cell_type": "markdown",
   "metadata": {},
   "source": [
    "# Question 3"
   ]
  },
  {
   "attachments": {},
   "cell_type": "markdown",
   "metadata": {},
   "source": [
    "We change the solver, so the time devotion variables will now be continuous. This new solver is defined in the file HouseHoldSpecializationModel_ALversion.py. "
   ]
  },
  {
   "cell_type": "code",
   "execution_count": 4,
   "metadata": {},
   "outputs": [],
   "source": [
    "# Values of wf to consider\n",
    "wf_values = [0.8, 0.9, 1.0, 1.1, 1.2]\n",
    "\n",
    "# Solve for each wf value\n",
    "log_HF_HM_ratios = []\n",
    "log_wf_wm_ratios = []\n",
    "for wf in wf_values:\n",
    "    model.par.wF = wf\n",
    "    opt = model.solve()\n",
    "    log_HF_HM_ratio = np.log(opt.HF/opt.HM)\n",
    "    log_wf_wm_ratio = np.log(model.par.wF/model.par.wM)\n",
    "    log_HF_HM_ratios.append(log_HF_HM_ratio)\n",
    "    log_wf_wm_ratios.append(log_wf_wm_ratio)\n",
    "\n",
    "# Plot the HF/HM ratios as a function of alpha\n",
    "plt.plot(log_wf_wm_ratios, log_HF_HM_ratios, '-o')\n",
    "plt.xlabel('log(wf/wm)')\n",
    "plt.ylabel('log(HF/HM)')\n",
    "plt.title('log(wf/wm) against log(HF/HM) with changing wf values')\n",
    "plt.show()"
   ]
  },
  {
   "attachments": {},
   "cell_type": "markdown",
   "metadata": {},
   "source": [
    "As the variables are now continuous the relationship between the relative wage ratio and relative participation ratio of home production is described by a linear slope. As indicated in the previous question, the optimal participation of females in home production are once again negatively correlated with a higher labor wage for females. "
   ]
  },
  {
   "attachments": {},
   "cell_type": "markdown",
   "metadata": {},
   "source": [
    "# Question 4"
   ]
  },
  {
   "attachments": {
    "image-2.png": {
     "image/png": "[encoded data removed]"
    },
    "image-3.png": {
     "image/png": "[encoded data removed]"
    },
    "image.png": {
     "image/png": "[encoded data removed]"
    }
   },
   "cell_type": "markdown",
   "metadata": {},
   "source": [
    "We want to choose alpha and sigma to minimize ![image.png](attachment:image.png) To do so, we run the regression used by Siminski and Yetsenga (2022) and estimate ![image.png](attachment:image-2.png) and ![image.png](attachment:image-3.png) for a range of female wages. We create a solver (seen in HouseHoldSpecializationModel.py) that solves for the vector of female wages (called solve_wF_vec). The we solve the minimization problem, using the input from solve_wF_vec. "
   ]
  },
  {
   "cell_type": "code",
   "execution_count": null,
   "metadata": {},
   "outputs": [],
   "source": [
    "# Find alpha and sigma values that minimize the objective function\n",
    "model.estimate()\n",
    "print(f'alpha = {model.par.alpha:.2f}, sigma = {model.par.sigma:.2f}')\n",
    "\n",
    "# Set empty vector to store results\n",
    "pointestimates_model = np.empty(5)\n",
    "\n",
    "# Estimate the model using S&Y's beta values, and store the estimates in the vector created above\n",
    "for i, wF in enumerate(model.par.wF_vec):\n",
    "    model.par.wF = wF\n",
    "    pointestimates_model[i] = model.sol.beta0 + model.sol.beta1*np.log(wF/model.par.wM)\n",
    "\n",
    "# Plot the estimate to illustrate how the model fits the data\n",
    "plt.plot(np.log(model.par.wF_vec), pointestimates_model, '-o')\n",
    "plt.xlabel('log(wf/wm)')\n",
    "plt.ylabel('log(HF/HM)')\n",
    "plt.title('log(wf/wm) against log(HF/HM) with changing wf values')\n",
    "plt.show()"
   ]
  },
  {
   "attachments": {},
   "cell_type": "markdown",
   "metadata": {},
   "source": [
    "We get that alpha=0.982 and sigma=0.1. Further, there is no deviation from the results of Siminski and Yetsenga (2022). The results implies that females are much more productive in the home production compared to males. \n",
    "Given the alpha value close to one it represents a case where males are almost useless in the home production. This result seems unrealistic.  "
   ]
  },
  {
   "attachments": {},
   "cell_type": "markdown",
   "metadata": {},
   "source": [
    "# Question 5"
   ]
  },
  {
   "attachments": {},
   "cell_type": "markdown",
   "metadata": {},
   "source": [
    "For question 5 we create a new solver function in HouseHoldSpecializationModel_ALversion.py called estimate_alternative. This is essentially a copy of the solver function fra question 4, but with alpha fixed at 0.5.\n",
    "\n",
    "To run the alternative solver, we implement the code below."
   ]
  },
  {
   "cell_type": "code",
   "execution_count": null,
   "metadata": {},
   "outputs": [],
   "source": [
    "# Find alpha and sigma values that minimize the objective function\n",
    "model.estimate_alternative()\n",
    "print(f'beta0 = {model.sol.beta0:.2f},beta1 = {model.sol.beta1:.2f},alpha = {model.par.alpha:.2f}, sigma = {model.par.sigma:.2f}')"
   ]
  },
  {
   "cell_type": "markdown",
   "metadata": {},
   "source": []
  }
 ],
 "metadata": {
  "kernelspec": {
   "display_name": "base",
   "language": "python",
   "name": "python3"
  },
  "language_info": {
   "codemirror_mode": {
    "name": "ipython",
    "version": 3
   },
   "file_extension": ".py",
   "mimetype": "text/x-python",
   "name": "python",
   "nbconvert_exporter": "python",
   "pygments_lexer": "ipython3",
   "version": "3.9.10"
  },
  "toc-autonumbering": true,
  "vscode": {
   "interpreter": {
    "hash": "47ef90cdf3004d3f859f1fb202523c65c07ba7c22eefd261b181f4744e2d0403"
   }
  }
 },
 "nbformat": 4,
 "nbformat_minor": 4
}
